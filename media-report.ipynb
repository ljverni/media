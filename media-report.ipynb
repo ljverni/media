{
 "cells": [
  {
   "cell_type": "markdown",
   "metadata": {},
   "source": [
    "## <font color=\"#0F1518\">News media in Argentina</font>"
   ]
  },
  {
   "cell_type": "markdown",
   "metadata": {},
   "source": [
    "## <font color=\"#0F1518\">1. Introduction</font>"
   ]
  },
  {
   "cell_type": "markdown",
   "metadata": {},
   "source": [
    "Most aspects of argentine society are highly politicized, and this is taken as an unquestionable fact. People and all sort of organizations have always been determined by its political positioning, never completely trying to hide their tendencies but instead to disguise them strategically. \n",
    " \n",
    "News media is the embodiment of this reality, and it doesn’t take a lot of reading to identify the stand each news company takes, deepening the fractures of a society constantly polarized not only by its own decisions and thoughts, but by its context as well.    \n",
    "\n",
    "We could apply this analysis to other geopolitical and historical realities and it would more than likely still be fitting as well. Political agenda is as old as human experience, but there is something at least as old: profit. One may argue that considering news media a biased industry, always aligning behind a political force, might be at some point a bit simplistic. And perhaps this criticism, although highly hypocritical, would not be entirely false. However, the pursuit of profit is an undeniable fact.  \n",
    "  \n",
    "We feel compelled to restate a concept that might seem rather obvious, as it indirectly is the stepping stone of the current analysis. And it is that the driving force of most mass media companies is to make profit. From this reaffirmation we can derive that they are not very interested in delivering meaningful and useful information, but in increasing the amount of consumers. And because of this, we understand that in order to accomplish that goal, its necessary to position a product that is likely to be consumed.  \n",
    "  \n",
    "So, in simple terms, if we consider that what news companies sell is what readers want to buy, then our main goal is to just simply analyze what type of news people are interested in. Do they see the news website as a tool to enlighten themselves, to try to understand the events that at some point will take direct evet in their own lives? Or they see it as just another entertainment product? Which topics raise more interest? Also, at what level is a trend exploited? In this report we will try to answer this questions as well as to throw some light on the part that news media play in argentine society, and the themes more present in everyday life.\n"
   ]
  },
  {
   "cell_type": "markdown",
   "metadata": {},
   "source": [
    "## <font color=\"#0F1518\">2. Methodology</font>"
   ]
  },
  {
   "cell_type": "code",
   "execution_count": 1,
   "metadata": {},
   "outputs": [],
   "source": [
    "import pandas as pd\n",
    "df = pd.read_csv(r\"clarin\\data_files\\clarin_master.csv\", nrows=0)\n",
    "df.reset_index(drop=True, inplace=True)"
   ]
  },
  {
   "cell_type": "markdown",
   "metadata": {},
   "source": [
    "The sources selected for the analysis are based on a research by Eugenia Mitchelstein and Pablo J. Boczkowski from the Center for the Study of Media and Society, Argentina (MESO), and published in the University of Oxford's Reuters Institute Digital News Report 2019 (http://www.digitalnewsreport.org/survey/2019/argentina-2019). There they point the following as the four most visited online news sources: Infobae, Todo Noticias/TN, Clarin and La Nación. This information is supported by a more recent study made by Comscore (https://www.totalmedios.com/nota/41753/sitios-de-noticias-digitales-infobae-fue-el-medio-mas-leido-en-marzo), which details the amount of unique visitors per site in the march of 2020: Infobae (26.539.552), Clarin (25.400.578), La Nación (20.734.990), Todo Noticias (12.687.000). To put this numbers in context, according to the National Institute of Statistics and Census of Argentina the estimated population is 45.367.763 (https://www.indec.gob.ar).\n",
    "  \n",
    "In regards to the samples used, when we first started this project our first impulse was to analyze the total amount of articles from each website. However, because they organize their articles based on their level of interest, we soon realized that the ones exposed in the home page were much more important to determine the relevance of each individual topic.  \n",
    "  \n",
    "The language utilized to perform all the tasks pertinent to this project was Python, and each step required the application of some of its libraries and packages:  \n",
    "  \n",
    "1. Web data extraction. With the help of Beautiful Soup, we parsed the home pages of each website and pulled all the URLs. Following this we identified patterns in the URLs that contained articles and created a filter. Finally, we parsed each article page in order to extract meaningful information. A slightly different approach was taken for Clarin and La Nacion. As they have the infinite scrolling feature implemented in their main sites, we had to use Selenium to simulate said feature in order to cover all the articles. Once all the URLs were extracted, we continued working with Beautiful Soup. We did this to try to standardize our programs as best as possible considering the different structures of each website. This was proven helpful for quick maintenance and control.  \n",
    "2. Dataframe and file creation. All the gathered data was then loaded into a Pandas data frame according to the following schema:  "
   ]
  },
  {
   "cell_type": "code",
   "execution_count": 2,
   "metadata": {
    "jupyter": {
     "outputs_hidden": true,
     "source_hidden": true
    },
    "scrolled": true,
    "slideshow": {
     "slide_type": "-"
    }
   },
   "outputs": [
    {
     "data": {
      "text/html": [
       "<div>\n",
       "<style scoped>\n",
       "    .dataframe tbody tr th:only-of-type {\n",
       "        vertical-align: middle;\n",
       "    }\n",
       "\n",
       "    .dataframe tbody tr th {\n",
       "        vertical-align: top;\n",
       "    }\n",
       "\n",
       "    .dataframe thead th {\n",
       "        text-align: right;\n",
       "    }\n",
       "</style>\n",
       "<table border=\"1\" class=\"dataframe\">\n",
       "  <thead>\n",
       "    <tr style=\"text-align: right;\">\n",
       "      <th></th>\n",
       "      <th>date</th>\n",
       "      <th>topic</th>\n",
       "      <th>article_name</th>\n",
       "      <th>url</th>\n",
       "      <th>media_name</th>\n",
       "      <th>extraction_date</th>\n",
       "    </tr>\n",
       "  </thead>\n",
       "  <tbody>\n",
       "  </tbody>\n",
       "</table>\n",
       "</div>"
      ],
      "text/plain": [
       "Empty DataFrame\n",
       "Columns: [date, topic, article_name, url, media_name, extraction_date]\n",
       "Index: []"
      ]
     },
     "execution_count": 2,
     "metadata": {},
     "output_type": "execute_result"
    }
   ],
   "source": [
    "df"
   ]
  },
  {
   "cell_type": "markdown",
   "metadata": {},
   "source": [
    "  "
   ]
  },
  {
   "cell_type": "markdown",
   "metadata": {},
   "source": [
    "  \n",
    "  \n",
    "  * This data frame was first appended to an existing CSV master file and also a new one was generated for each specific day to work as a backup. A JSON file for the text of each article was also created, with the keys being the name of the article. Immediately after this, the program would perform a load check of the files and update a log file for control."
   ]
  },
  {
   "cell_type": "markdown",
   "metadata": {},
   "source": [
    "The steps detailed above were taken on daily basis, any time from 16:00 to 19:00 Argentine Time (UTC-3), and was planned do this for a total of 30 days. Our first intention was to schedule this scripts automatically, however that was proven rather inconvenient. Although the programs were written in a way they would continue running when non-essential conditions were not met, my intention was to prevent as much data loss as possible. Unfortunately, it was not uncommon for new articles pages to have a different structure than the one that was identified as standard. Therefore, I felt compelled to monitor the functioning of the programs in real time to prevent mayor losses."
   ]
  },
  {
   "cell_type": "markdown",
   "metadata": {},
   "source": [
    "3. Cleaning and Queries. Once we had all the gathered data, we created a new Pandas data frame from the master CSV file. It was necessary to translate the topics, and also to reclassify certain articles in order to make it more coherent between all four news sites. We then wrote queries that would be useful for the next stage.\n",
    "4. Analysis and visualization. With the assistance of Matplotlib library, we plotted figures that would help us identify significant trends and patterns."
   ]
  },
  {
   "cell_type": "markdown",
   "metadata": {},
   "source": [
    "## <font color=\"#0F1518\">3. Data cleansing</font>"
   ]
  },
  {
   "cell_type": "code",
   "execution_count": 3,
   "metadata": {},
   "outputs": [],
   "source": [
    "from datetime import datetime\n",
    "import numpy as np\n",
    "import json\n",
    "import re\n",
    "%matplotlib inline\n",
    "from matplotlib.gridspec import GridSpec\n",
    "from matplotlib.legend import Legend\n",
    "import matplotlib.patches as mpatches\n",
    "import seaborn as sns\n",
    "from matplotlib.lines import Line2D\n",
    "from matplotlib import pyplot as plt\n",
    "\n",
    "df_clarin = pd.read_csv(r\"clarin\\data_files\\clarin_master.csv\")\n",
    "df_infobae = pd.read_csv(r\"infobae\\data_files\\infobae_master.csv\")\n",
    "df_lanacion = pd.read_csv(r\"lanacion\\data_files\\lanacion_master.csv\")\n",
    "df_tn = pd.read_csv(r\"todonoticias\\data_files\\todonoticias_master.csv\")\n",
    "df_pieces = [df_clarin, df_tn, df_infobae, df_lanacion]\n",
    "df = pd.concat(df_pieces)\n",
    "df.reset_index(drop=True, inplace=True)\n",
    "\n",
    "#Media dictionary\n",
    "color_dict = {\"Clarin\": \"#A75050\", \"Infobae\": \"#B9712D\", \"La Nacion\": \"#4C4E5F\", \"Todo Noticias\": \"#739BB3\"}"
   ]
  },
  {
   "cell_type": "markdown",
   "metadata": {},
   "source": [
    "#### <font color=\"#0F1518\">3.1 Dataframe Overview</font>"
   ]
  },
  {
   "cell_type": "code",
   "execution_count": 4,
   "metadata": {},
   "outputs": [
    {
     "data": {
      "text/html": [
       "<div>\n",
       "<style scoped>\n",
       "    .dataframe tbody tr th:only-of-type {\n",
       "        vertical-align: middle;\n",
       "    }\n",
       "\n",
       "    .dataframe tbody tr th {\n",
       "        vertical-align: top;\n",
       "    }\n",
       "\n",
       "    .dataframe thead th {\n",
       "        text-align: right;\n",
       "    }\n",
       "</style>\n",
       "<table border=\"1\" class=\"dataframe\">\n",
       "  <thead>\n",
       "    <tr style=\"text-align: right;\">\n",
       "      <th></th>\n",
       "      <th>date</th>\n",
       "      <th>topic</th>\n",
       "      <th>article_name</th>\n",
       "      <th>url</th>\n",
       "      <th>media_name</th>\n",
       "      <th>extraction_date</th>\n",
       "    </tr>\n",
       "  </thead>\n",
       "  <tbody>\n",
       "    <tr>\n",
       "      <th>0</th>\n",
       "      <td>2020-05-06</td>\n",
       "      <td>sociedad</td>\n",
       "      <td>casos de coronavirus hoy en argentina: cuantos...</td>\n",
       "      <td>https://www.clarin.com/sociedad/casos-de-coron...</td>\n",
       "      <td>clarin</td>\n",
       "      <td>2020-05-06</td>\n",
       "    </tr>\n",
       "    <tr>\n",
       "      <th>1</th>\n",
       "      <td>2020-05-05</td>\n",
       "      <td>opinion</td>\n",
       "      <td>la encrucijada de alberto fernandez para defin...</td>\n",
       "      <td>https://www.clarin.com/opinion/encrucijada-alb...</td>\n",
       "      <td>clarin</td>\n",
       "      <td>2020-05-06</td>\n",
       "    </tr>\n",
       "    <tr>\n",
       "      <th>2</th>\n",
       "      <td>2020-05-06</td>\n",
       "      <td>economia</td>\n",
       "      <td>dolar blue hoy: a cuanto cotiza este miercoles...</td>\n",
       "      <td>https://www.clarin.com/economia/dolar-blue-hoy...</td>\n",
       "      <td>clarin</td>\n",
       "      <td>2020-05-06</td>\n",
       "    </tr>\n",
       "    <tr>\n",
       "      <th>3</th>\n",
       "      <td>2020-05-06</td>\n",
       "      <td>politica</td>\n",
       "      <td>coronavirus en argentina: tras la diferencias ...</td>\n",
       "      <td>https://www.clarin.com/politica/coronavirus-ar...</td>\n",
       "      <td>clarin</td>\n",
       "      <td>2020-05-06</td>\n",
       "    </tr>\n",
       "    <tr>\n",
       "      <th>4</th>\n",
       "      <td>2020-05-06</td>\n",
       "      <td>sociedad</td>\n",
       "      <td>se estrello un avion sanitario en esquel: dos ...</td>\n",
       "      <td>https://www.clarin.com/sociedad/coronavirus-ar...</td>\n",
       "      <td>clarin</td>\n",
       "      <td>2020-05-06</td>\n",
       "    </tr>\n",
       "  </tbody>\n",
       "</table>\n",
       "</div>"
      ],
      "text/plain": [
       "         date     topic                                       article_name  \\\n",
       "0  2020-05-06  sociedad  casos de coronavirus hoy en argentina: cuantos...   \n",
       "1  2020-05-05   opinion  la encrucijada de alberto fernandez para defin...   \n",
       "2  2020-05-06  economia  dolar blue hoy: a cuanto cotiza este miercoles...   \n",
       "3  2020-05-06  politica  coronavirus en argentina: tras la diferencias ...   \n",
       "4  2020-05-06  sociedad  se estrello un avion sanitario en esquel: dos ...   \n",
       "\n",
       "                                                 url media_name  \\\n",
       "0  https://www.clarin.com/sociedad/casos-de-coron...     clarin   \n",
       "1  https://www.clarin.com/opinion/encrucijada-alb...     clarin   \n",
       "2  https://www.clarin.com/economia/dolar-blue-hoy...     clarin   \n",
       "3  https://www.clarin.com/politica/coronavirus-ar...     clarin   \n",
       "4  https://www.clarin.com/sociedad/coronavirus-ar...     clarin   \n",
       "\n",
       "  extraction_date  \n",
       "0      2020-05-06  \n",
       "1      2020-05-06  \n",
       "2      2020-05-06  \n",
       "3      2020-05-06  \n",
       "4      2020-05-06  "
      ]
     },
     "execution_count": 4,
     "metadata": {},
     "output_type": "execute_result"
    }
   ],
   "source": [
    "df.head(5)"
   ]
  },
  {
   "cell_type": "code",
   "execution_count": 5,
   "metadata": {},
   "outputs": [
    {
     "name": "stdout",
     "output_type": "stream",
     "text": [
      "<class 'pandas.core.frame.DataFrame'>\n",
      "RangeIndex: 10811 entries, 0 to 10810\n",
      "Data columns (total 6 columns):\n",
      " #   Column           Non-Null Count  Dtype \n",
      "---  ------           --------------  ----- \n",
      " 0   date             10811 non-null  object\n",
      " 1   topic            10811 non-null  object\n",
      " 2   article_name     10811 non-null  object\n",
      " 3   url              10811 non-null  object\n",
      " 4   media_name       10811 non-null  object\n",
      " 5   extraction_date  10811 non-null  object\n",
      "dtypes: object(6)\n",
      "memory usage: 506.9+ KB\n"
     ]
    }
   ],
   "source": [
    "df.info()"
   ]
  },
  {
   "cell_type": "markdown",
   "metadata": {},
   "source": [
    "#### <font color=\"#0F1518\">3.2 Default topics</font>"
   ]
  },
  {
   "cell_type": "code",
   "execution_count": 6,
   "metadata": {},
   "outputs": [
    {
     "data": {
      "text/plain": [
       "array(['sociedad', 'opinion', 'economia', 'politica', 'internacional',\n",
       "       'buena-vida', 'new-york-times-international-weekly', 'deportes',\n",
       "       'ciudades', 'mundo', 'brandstudio', 'cultura', 'fama',\n",
       "       'policiales', 'viste', 'espectaculos', 'viajes', 'entremujeres',\n",
       "       'gourmet', 'tecnologia', 'zonales', 'autos', 'viva', 'rural',\n",
       "       'arq', 'revista-enie', 'salud', 'tecno', 'show', 'musica',\n",
       "       'estilo', 'eeuu', 'deportes-2', 'educacion', 'coronavirus',\n",
       "       'tendencias-america', 'infoshow', 'the-new-york-times',\n",
       "       'entretenimiento', 'futbol-europeo', 'america', 'teleshow',\n",
       "       'inhouse', 'mexico', 'america-latina', 'historias', 'fotos',\n",
       "       'wapo', 'tendencias', 'historia-america', 'venezuela',\n",
       "       'ciencia-america', 'grandes-libros', 'desarrollo', 'campo',\n",
       "       'ciencia', 'colombia', 'innovacion', 'def-medio-ambiente',\n",
       "       'defensa-y-seguridad', 'gaming', 'talento-y-liderazgo', 'turismo',\n",
       "       'el-mundo', 'lifestyle', 'editoriales', 'seguridad',\n",
       "       'buenos-aires', 'propiedades', 'moda-y-belleza', 'comunidad'],\n",
       "      dtype=object)"
      ]
     },
     "execution_count": 6,
     "metadata": {},
     "output_type": "execute_result"
    }
   ],
   "source": [
    "topic_list = df[\"topic\"].unique()\n",
    "topic_list"
   ]
  },
  {
   "cell_type": "markdown",
   "metadata": {},
   "source": [
    "#### <font color=\"#0F1518\">3.3 Remove irrelevant topics and rows with missing values</font>"
   ]
  },
  {
   "cell_type": "code",
   "execution_count": 7,
   "metadata": {},
   "outputs": [],
   "source": [
    "df.drop(df[(df[\"topic\"]==\"fotos\") | (df[\"topic\"]==\"brandstudio\")].index, inplace=True)\n",
    "df.dropna(inplace=True)"
   ]
  },
  {
   "cell_type": "markdown",
   "metadata": {},
   "source": [
    "Topic \"fotos\" was dropped as it contains only photos. \"Brand studio\" is a commercial branch from Clarin and has strictly marketing purposes and they have no use for this project."
   ]
  },
  {
   "cell_type": "markdown",
   "metadata": {},
   "source": [
    "**<font color=\"#0F1518\">3.4 Change date values to type datetime</font>**"
   ]
  },
  {
   "cell_type": "code",
   "execution_count": 8,
   "metadata": {},
   "outputs": [],
   "source": [
    "df[\"extraction_date\"] = df[\"extraction_date\"].apply(lambda x: datetime.strptime(str(x), \"%Y-%m-%d\"))\n",
    "df[\"extraction_date\"] = df[\"extraction_date\"].dt.date"
   ]
  },
  {
   "cell_type": "markdown",
   "metadata": {},
   "source": [
    "#### <font color=\"#0F1518\">3.5 Create covid-19 column</font>"
   ]
  },
  {
   "cell_type": "code",
   "execution_count": null,
   "metadata": {},
   "outputs": [],
   "source": [
    "df[\"covid_in_article\"] = None\n",
    "for name in df[\"media_name\"].unique():\n",
    "    for d in list(df[\"extraction_date\"].unique()):\n",
    "        json_path = fr\"{name}\\data_files\\{name}-articles-{d}.json\"\n",
    "        with open(json_path, \"r\") as json_file:\n",
    "            loaded_json = json.load(json_file)\n",
    "            for key, value in loaded_json.items():\n",
    "                match = re.search(r\"coronavirus|covid|cuarentena\", value, flags=re.IGNORECASE)\n",
    "                if match:\n",
    "                    df.loc[(df[\"media_name\"]==name)&(df[\"article_name\"]==key), \"covid_in_article\"] = True\n",
    "                else:\n",
    "                    df.loc[(df[\"media_name\"]==name)&(df[\"article_name\"]==key), \"covid_in_article\"] = False"
   ]
  },
  {
   "cell_type": "markdown",
   "metadata": {},
   "source": [
    "#### <font color=\"#0F1518\">3.6 Topic translation and media_name capitalization</font>"
   ]
  },
  {
   "cell_type": "code",
   "execution_count": null,
   "metadata": {},
   "outputs": [],
   "source": [
    "translated_topics = {\"sociedad\": \"Society\", \"opinion\": \"Opinion\", \"economia\": \"Economy\", \"politica\": \"Politics\", \"internacional\": \"International\", \"buena-vida\": \"Lifestyle\", \"new-york-times-international-weekly\": \"International\", \"deportes\": \"Sports\", \"ciudades\": \"Society\", \"mundo\": \"International\", \"cultura\": \"Culture\", \"fama\": \"Entertainment\", \"policiales\": \"Crime\", \"viste\": \"Others\", \"espectaculos\": \"Entertainment\", \"viajes\": \"Tourism\", \"entremujeres\": \"Lifestyle\", \"gourmet\": \"Lifestyle\", \"tecnologia\": \"Technology\", \"zonales\": \"Society\", \"autos\": \"Cars\", \"viva\": \"Society\", \"rural\": \"Economy\", \"arq\": \"Others\", \"revista-enie\": \"Culture\", \"salud\": \"Lifestyle\", \"tecno\": \"Technology\", \"show\": \"Entertainment\", \"musica\": \"Entertainment\", \"estilo\": \"Entertainment\", \"eeuu\": \"International\", \"deportes-2\": \"Sports\", \"educacion\": \"Society\", \"coronavirus\": \"Coronavirus\", \"tendencias-america\": \"Others\", \"infoshow\": \"Entertainment\", \"the-new-york-times\": \"International\", \"entretenimiento\": \"Entertainment\", \"futbol-europeo\": \"Sports\", \"america\": \"International\", \"teleshow\": \"Entertainment\", \"inhouse\": \"Lifestyle\", \"mexico\": \"International\", \"america-latina\": \"International\", \"historias\": \"Culture\", \"wapo\": \"Others\", \"tendencias\":  \"Lifestyle\", \"historia-america\": \"Culture\", \"venezuela\": \"International\", \"ciencia-america\": \"Science\", \"grandes-libros\": \"Culture\", \"desarrollo\": \"Others\", \"campo\": \"Economy\", \"ciencia\": \"Science\", \"colombia\": \"International\", \"innovacion\": \"Technology\", \"def-medio-ambiente\": \"Environment\", \"defensa-y-seguridad\": \"Others\", \"gaming\": \"Entertainment\", \"talento-y-liderazgo\": \"Others\", \"turismo\": \"Tourism\", \"el-mundo\": \"International\", \"lifestyle\": \"Lifestyle\", \"editoriales\": \"Opinion\", \"seguridad\": \"Crime\", \"buenos-aires\": \"Others\", \"propiedades\": \"Society\", \"moda-y-belleza\": \"Lifestyle\", \"comunidad\": \"Society\"}\n",
    "df[\"topic\"] = df[\"topic\"].apply(lambda x: translated_topics[x])\n",
    "df[\"media_name\"].replace(list(df[\"media_name\"].unique()), [\"Clarin\", \"Todo Noticias\", \"Infobae\", \"La Nacion\"], inplace=True)"
   ]
  },
  {
   "cell_type": "markdown",
   "metadata": {},
   "source": [
    "For practical purposes, several topics have been translated and merged into one acording to the articles content:\n",
    " * \"society\" contains: educacion (education), sociedad (society), propiedades (estate), comunidad (comunity), ciudades (cities), zonales (zonal), \"viva\".\n",
    " * \"economy\" contains: economia (economy), campo (agriculture), rural.\n",
    " * \"politics\" replaced politica.\n",
    " * \"cars\" replaced autos.\n",
    " * \"coronavirus remained coronavirus.\n",
    " * \"entertainment\" contains: show, musica (music), estilo (style), infoshow, entretenimiento (entertainment), teleshow, gaming, espectaculos (shows), fama (fame).\n",
    " * \"international\" contains: internacional (international), eeuu, mundo (world), the-new-york-times, america, mexico, america-latina, venezuela, colombia, el-mundo (the-world), new-york-times-international-weekly.\n",
    " * \"sports\" contains: deportes (sports), deportes-2, futbol-europeo (football-european). \n",
    " * \"technology\" contains: techno, innovacion (innovation), tecnologia (technology).\n",
    " * \"lifestyle\" contains: salud (health), inhouse, tendencias (trends), lifestyle, moda-y-belleza (fashion-and-beauty), buena-vida (good-life), entre-mujeres (between-women), gourmet.\n",
    " * \"crime\" contains: policiales (police), seguridad (safety).\n",
    " * \"opinion\" contains: opinion, editoriales (editorials).\n",
    " * \"culture\" contains: cultura (culture), historias (stories), historia-america (history-america), grandes-libros (great-books), \"revista-enie\".\n",
    " * \"science\" contains: ciencia-america (science-america), ciencia (science).\n",
    " * \"tourism\" contains: turismo (tourism), viajes (trips).\n",
    " * \"environment\" replaced def-medio-ambiente (def-enviroment).\n",
    " * \"others\" contain: tendencias-america (trends-america), \"wapo\", desarrollo (development), defensa-y-seguridad (defense-and-safety), buenos-aires, \"viste\", \"arq\", talento-y-liderazo (talent-and-leadership).\n",
    " "
   ]
  },
  {
   "cell_type": "markdown",
   "metadata": {},
   "source": [
    "#### <font color=\"#0F1518\">3.7 Dataframe overview</font>"
   ]
  },
  {
   "cell_type": "code",
   "execution_count": null,
   "metadata": {},
   "outputs": [],
   "source": [
    "df.head(5)"
   ]
  },
  {
   "cell_type": "code",
   "execution_count": null,
   "metadata": {},
   "outputs": [],
   "source": [
    "df.info()"
   ]
  },
  {
   "cell_type": "markdown",
   "metadata": {},
   "source": [
    "## <font color=\"#0F1518\">4. Analytics</font>"
   ]
  },
  {
   "cell_type": "code",
   "execution_count": null,
   "metadata": {},
   "outputs": [],
   "source": [
    "plt.style.use(\"seaborn\")\n",
    "#DATE LABELS LIST\n",
    "date_labels = [pd.to_datetime(date).strftime(\"%m-%d\") for date in list(df[\"extraction_date\"].unique())]\n",
    "#DATES LIST\n",
    "dates = list(df[\"extraction_date\"].unique())\n",
    "#COLORS\n",
    "color_dict = {\"Clarin\": \"#B48686\", \"Infobae\": \"#E19F3F\", \"La Nacion\": \"#6D6D75\", \"Todo Noticias\": \"#88B9AA\"}\n",
    "default_colors = [color_dict[key] for key in color_dict]\n",
    "#MEDIA NAMES\n",
    "media_names = sorted(list(df[\"media_name\"].unique()))\n",
    "\n",
    "def tick_spacer(interval):\n",
    "    spaced_ticks = []\n",
    "    for n, date in enumerate(date_labels):\n",
    "        if n%interval==0:\n",
    "            spaced_ticks.append(date)\n",
    "        else:\n",
    "            spaced_ticks.append(\"\")\n",
    "    return spaced_ticks\n",
    "\n",
    "class Plotter:\n",
    "    def __init__(self, query, title):\n",
    "        self.query = query\n",
    "        self.title = title\n",
    "        \n",
    "    def line_plotter(self, default_colors=None):\n",
    "        ax.set_prop_cycle('color', default_colors)\n",
    "        ax.plot(self.query, linewidth=3)\n",
    "        ax.set_xticks(dates), ax.set_xticklabels(date_labels)\n",
    "        ax.set_facecolor(\"#D5D8DC\")\n",
    "        ax.set_title(self.title, position=[.5, 1.05], fontsize=12)\n",
    "        ax.legend(media_names, bbox_to_anchor=(0.5,1.09), loc=\"upper center\", ncol=4) \n",
    "        \n",
    "    def box_plotter(self):\n",
    "        sns.boxplot(self.query.iloc[:, 1], self.query.iloc[:, 2], data=self.query, linewidth=2.5).set(xlabel=\"\", ylabel=\"\")\n",
    "        idx = 0\n",
    "        for name in media_names:\n",
    "            box = ax.artists[idx]\n",
    "            box.set_facecolor(default_colors[idx])\n",
    "            idx += 1\n",
    "        ax.set_facecolor(\"#D5D8DC\")\n",
    "            \n",
    "    def bar_plotter(self, color):\n",
    "        ax.bar(list(self.query.index), self.query.to_list(), color=color, width=0.40)\n",
    "        ax.set_title(self.title)\n",
    "        for i in range(len(self.query)):\n",
    "            ax.text(self.query.index[i], self.query[i]+20, f\"{round((self.query[i]*100)/self.query.sum(), 2)}%\",horizontalalignment=\"center\")\n",
    "        ax.set_facecolor(\"#D5D8DC\")\n",
    "        \n",
    "    def bar_plotter_stack(self, color):\n",
    "        x, y = list(self.query[0].index), self.query[0].to_list()\n",
    "        x1, y1 = list(self.query[1].index), self.query[1].to_list()\n",
    "        ax.bar(x, y, color=color[0], width=0.40)\n",
    "        ax.bar(x1, y1, color=color[1], width=0.30)\n",
    "        ax.set_title(self.title, fontsize=12)\n",
    "        yticks = ax.get_yticks()\n",
    "        yticks_list = list(yticks) + [(yticks[-1]) + (yticks[-1]) - (yticks[-2])]\n",
    "        ax.set_yticks(yticks_list)\n",
    "        percent_value = round(self.query[1].sum()/self.query[0].sum()*100, 1)        \n",
    "        ax.legend([f\"Articles total: {self.query[0].sum()}\",  f\"Covid-19 total: {self.query[1].sum()} ({percent_value}%)\"])\n",
    "        for i in range(len(x1)):\n",
    "            ax.text(x1[i], y1[i]+(((yticks[-1])-(yticks[-2]))/3), f\"{round((y1[i]*100)/y[i], 2)}%\",horizontalalignment=\"center\", color=\"#641E16\")\n",
    "        ax.set_facecolor(\"#D5D8DC\")\n",
    "        \n",
    "    def barh_plotter(self, color):\n",
    "        ax.barh(self.query.index, self.query.to_list(), color=color)\n",
    "        ax.set_title(self.title, fontsize=12)\n",
    "        ax.set_ylabel(\"\")\n",
    "        labels = [topic for topic in self.query.sort_values(ascending=False).head().index.to_list()]\n",
    "        patches = [mpatches.Patch(color=color) for i in labels]\n",
    "        plt.legend(patches, labels, title=\"Top 5 topics\", loc=\"lower right\")\n",
    "        ax.set_facecolor(\"#D5D8DC\")\n",
    "        return ax"
   ]
  },
  {
   "cell_type": "markdown",
   "metadata": {},
   "source": [
    "#### <font color=\"#0F1518\">4.1 Samples</font>"
   ]
  },
  {
   "cell_type": "code",
   "execution_count": null,
   "metadata": {},
   "outputs": [],
   "source": [
    "###FIGURE-A\n",
    "fig = plt.figure(figsize=(15, 10))\n",
    "gs = GridSpec(2, 2)\n",
    "\n",
    "#QUERIES\n",
    "values_bymedia = df.groupby([\"media_name\"])[\"article_name\"].count().sort_values(ascending=False)\n",
    "values_bydate_bymedia = df.groupby([\"extraction_date\", \"media_name\"]).agg({\"article_name\":\"count\"})\n",
    "outlier_info = values_bydate_bymedia.reset_index().groupby(\"media_name\").get_group(\"Infobae\").sort_values(by=\"article_name\", ascending=False).iloc[0].values\n",
    "outlier_tn = values_bydate_bymedia.reset_index().groupby(\"media_name\").get_group(\"Todo Noticias\").sort_values(by=\"article_name\", ascending=False).iloc[0].values\n",
    "mean_total = int(np.average(values_bydate_bymedia[\"article_name\"].values))\n",
    "sd = [name + \": \" + str(round(np.std(values_bydate_bymedia.reset_index().sort_values(by=\"article_name\").groupby(\"media_name\").get_group(name)[\"article_name\"].values), 1)) for name in media_names]\n",
    "\n",
    "####LINE PLOT####\n",
    "ax = fig.add_subplot(gs[0, :2])\n",
    "articles_bydate1 = Plotter(values_bydate_bymedia.unstack(), \"Articles by day\")\n",
    "articles_bydate1.line_plotter(default_colors)\n",
    "\n",
    "####BOX PLOT####\n",
    "ax = fig.add_subplot(gs[1, 0])\n",
    "articles_bydate2 = Plotter(values_bydate_bymedia.reset_index(), \"Daily articles total distribution\")\n",
    "articles_bydate2.box_plotter()\n",
    "ax.set_title(\"Daily distribution\", fontsize=12)\n",
    "\n",
    "####BAR PLOT####\n",
    "ax = fig.add_subplot(gs[1, 1])\n",
    "articles_total = Plotter(values_bymedia, \"Total samples\")\n",
    "articles_total.bar_plotter(\"#4A584A\")\n",
    "\n",
    "plt.show()"
   ]
  },
  {
   "cell_type": "markdown",
   "metadata": {
    "variables": {
     "df.shape[0]": {},
     "df[\"extraction_date\"].nunique()": {},
     "mean_total": {},
     "outlier_info[2]": {},
     "outlier_tn[2]": {},
     "round(len(df[df.duplicated([\"article_name\"])==True])/df.shape[0]*100, 2)": {},
     "round(np.std(values_bydate_bymedia.reset_index().sort_values(by=\"article_name\").groupby(\"media_name\").get_group(\"Infobae\")[\"article_name\"].values[:-2]), 1)": {},
     "round(np.std(values_bydate_bymedia.reset_index().sort_values(by=\"article_name\").groupby(\"media_name\").get_group(\"Todo Noticias\")[\"article_name\"].values[:-1]), 1)": {},
     "sd[0]": {},
     "sd[1]": {},
     "sd[2]": {},
     "sd[3]": {},
     "str(outlier_info[0])": {},
     "str(outlier_info[1])": {},
     "str(outlier_tn[0])": {},
     "str(outlier_tn[1])": {}
    }
   },
   "source": [
    "The total amount of articles that make up the dataset is {{df.shape[0]}}, distribuited throughout {{df[\"extraction_date\"].nunique()}} days. Any duplicates have been filtered in the scraping process. There were articles that remained on the home page for one or more days, and they are being counted as new articles as they have relative value. They represent a {{round(len(df[df.duplicated([\"article_name\"])==True])/df.shape[0]*100, 2)}}% of the dataset.\n",
    "\n",
    "Despite some exceptional behaviors, the amount of extracted and filtered samples have been relatively consistent throughout the accounted period, counting a daily mean of {{mean_total}} articles. Even though  they show moderate falls and rises, Clarin and Todo Noticias proved to show more consistency in the amount of published articles, with Infobae and specially Todo Noticias being much more irregular. This can be appreciated by taking a look at the boxplot. In terms of standard deviation, the values are the following: {{sd[0]}}, {{sd[1]}}, {{sd[2]}} and {{sd[3]}}.\n",
    "\n",
    "The standard deviation values in Infobae and Todo Noticias are explained partially because of the presence of some outliers, which are the result unusual increase in the amount of articles published rather than an error in the web scraping programs. These cases belong to date {{str(outlier_info[0])}} ({{str(outlier_info[1])}}), with {{outlier_info[2]}} articles, and date {{str(outlier_tn[0])}} ({{str(outlier_tn[1])}}), with {{outlier_tn[2]}} articles. Without these outliers, the values would decrease to {{round(np.std(values_bydate_bymedia.reset_index().sort_values(by=\"article_name\").groupby(\"media_name\").get_group(\"Infobae\")[\"article_name\"].values[:-2]), 1)}} and {{round(np.std(values_bydate_bymedia.reset_index().sort_values(by=\"article_name\").groupby(\"media_name\").get_group(\"Todo Noticias\")[\"article_name\"].values[:-1]), 1)}} respectively. We could not identify any special events to explain those irregularities, but they do not have great incidence in the overall results. \n"
   ]
  },
  {
   "cell_type": "markdown",
   "metadata": {},
   "source": [
    "#### <font color=\"#0F1518\">4.2 Topics</font>"
   ]
  },
  {
   "cell_type": "markdown",
   "metadata": {},
   "source": [
    "#### <font color=\"#0F1518\">4.2.1 Topics general</font>"
   ]
  },
  {
   "cell_type": "code",
   "execution_count": null,
   "metadata": {},
   "outputs": [],
   "source": [
    "###FIGURE-B\n",
    "fig = plt.figure(figsize=(15, 10))\n",
    "gs = GridSpec(2, 2)  \n",
    "\n",
    "#QUERIES         \n",
    "total_bymedia_bytopic = df.groupby([\"media_name\", \"topic\"]).agg({\"article_name\":\"count\"}).reset_index(level=\"topic\").rename(columns={\"article_name\":\"topic_totals\"})\n",
    "df_bytopic_merged = pd.merge(left=total_bymedia_bytopic, right=values_bymedia, how=\"inner\", on=\"media_name\").rename(columns={\"article_name\":\"media_totals\"})\n",
    "df_bytopic_merged[\"topic_percent\"] = round((df_bytopic_merged[\"topic_totals\"] / df_bytopic_merged[\"media_totals\"])*100, 2)\n",
    "total_perc_bytopic = df_bytopic_merged.drop(columns=\"media_totals\").reset_index()\n",
    "df_ex = lambda x, y: total_perc_bytopic.groupby([\"media_name\", \"topic\"]).get_group((x, y))[[\"topic_totals\", \"topic_percent\"]].values[0][1]\n",
    "\n",
    "####BARH PLOT####\n",
    "idx  = 0\n",
    "for name in media_names:\n",
    "    total_bytopic = df.loc[df[\"media_name\"]==name][\"topic\"].value_counts().sort_values()\n",
    "    ax = fig.add_subplot(gs[idx])\n",
    "    p_topic = Plotter(total_bytopic, f\"Articles by topic - {name}\")\n",
    "    p_topic.barh_plotter(color_dict[name])\n",
    "    idx += 1\n",
    "    \n",
    "plt.show()"
   ]
  },
  {
   "cell_type": "markdown",
   "metadata": {
    "variables": {
     "df_ex(\"Clarin\", \"Cars\")": {},
     "df_ex(\"Clarin\", \"Crime\")": {},
     "df_ex(\"Clarin\", \"Culture\")": {},
     "df_ex(\"Clarin\", \"Economy\")": {},
     "df_ex(\"Clarin\", \"Entertainment\")": {},
     "df_ex(\"Clarin\", \"International\")": {},
     "df_ex(\"Clarin\", \"Lifestyle\")": {},
     "df_ex(\"Clarin\", \"Opinion\")": {},
     "df_ex(\"Clarin\", \"Politics\")": {},
     "df_ex(\"Clarin\", \"Society\")": {},
     "df_ex(\"Clarin\", \"Sports\")": {},
     "df_ex(\"Clarin\", \"Technology\")": {},
     "df_ex(\"Clarin\", \"Tourism\")": {},
     "df_ex(\"Infobae\", \"Cars\")": {},
     "df_ex(\"Infobae\", \"Crime\")": {},
     "df_ex(\"Infobae\", \"Culture\")": {},
     "df_ex(\"Infobae\", \"Economy\")": {},
     "df_ex(\"Infobae\", \"Entertainment\")": {},
     "df_ex(\"Infobae\", \"Environment\")": {},
     "df_ex(\"Infobae\", \"International\")": {},
     "df_ex(\"Infobae\", \"Lifestyle\")": {},
     "df_ex(\"Infobae\", \"Opinion\")": {},
     "df_ex(\"Infobae\", \"Politics\")": {},
     "df_ex(\"Infobae\", \"Science\")": {},
     "df_ex(\"Infobae\", \"Society\")": {},
     "df_ex(\"Infobae\", \"Sports\")": {},
     "df_ex(\"Infobae\", \"Technology\")": {},
     "df_ex(\"La Nacion\", \"Cars\")": {},
     "df_ex(\"La Nacion\", \"Crime\")": {},
     "df_ex(\"La Nacion\", \"Culture\")": {},
     "df_ex(\"La Nacion\", \"Economy\")": {},
     "df_ex(\"La Nacion\", \"Entertainment\")": {},
     "df_ex(\"La Nacion\", \"International\")": {},
     "df_ex(\"La Nacion\", \"Lifestyle\")": {},
     "df_ex(\"La Nacion\", \"Opinion\")": {},
     "df_ex(\"La Nacion\", \"Politics\")": {},
     "df_ex(\"La Nacion\", \"Science\")": {},
     "df_ex(\"La Nacion\", \"Society\")": {},
     "df_ex(\"La Nacion\", \"Sports\")": {},
     "df_ex(\"La Nacion\", \"Technology\")": {},
     "df_ex(\"La Nacion\", \"Tourism\")": {},
     "df_ex(\"Todo Noticias\", \"Cars\")": {},
     "df_ex(\"Todo Noticias\", \"Crime\")": {},
     "df_ex(\"Todo Noticias\", \"Economy\")": {},
     "df_ex(\"Todo Noticias\", \"Entertainment\")": {},
     "df_ex(\"Todo Noticias\", \"International\")": {},
     "df_ex(\"Todo Noticias\", \"Lifestyle\")": {},
     "df_ex(\"Todo Noticias\", \"Opinion\")": {},
     "df_ex(\"Todo Noticias\", \"Politics\")": {},
     "df_ex(\"Todo Noticias\", \"Society\")": {},
     "df_ex(\"Todo Noticias\", \"Sports\")": {},
     "df_ex(\"Todo Noticias\", \"Technology\")": {}
    }
   },
   "source": [
    "When analyzing the main topics, we can appreciate diversity in the orientation of each media company. Todo Noticias has a very clear focus towards Entertainment, with {{df_ex(\"Todo Noticias\", \"Entertainment\")}}% of its articles being about this topic. La Nacion and Infobae, altough in a lesser degree, also give great attention to this topic, with a {{df_ex(\"La Nacion\", \"Entertainment\")}}% and a {{df_ex(\"Infobae\", \"Entertainment\")}}%, ocupying first and second place respectively. Finaly Clarin, despite seemingly prioritizing other topics, has Entertainment ocupying the 4th place in level of importance with a {{df_ex(\"Clarin\", \"Entertainment\")}}%. \n",
    "\n",
    "Another topic that agglomerate a fair portion of the total of articles is Society. Clarin ranks it in the first place with {{df_ex(\"Clarin\", \"Society\")}}%, followed by Todo Noticias ({{df_ex(\"Todo Noticias\", \"Society\")}}%), Infobae ({{df_ex(\"Infobae\", \"Society\")}}%) and La Nacion ({{df_ex(\"La Nacion\", \"Society\")}}%). \n",
    "\n",
    "Sport seems to be regarded similarly by all four sites, taking the third place in three of them (Infobae [{{df_ex(\"Infobae\", \"Sports\")}}%], La Nacion [{{df_ex(\"La Nacion\", \"Sports\")}}%], Clarin [{{df_ex(\"Clarin\", \"Sports\")}}%]), and the fourth in Todo Noticias ({{df_ex(\"Todo Noticias\", \"Sports\")}}%). The same criteria match is observed in Opinion, taking {{df_ex(\"Infobae\", \"Opinion\")}}% of the Infobae articles. In a similar venue is Clarin with {{df_ex(\"Clarin\", \"Opinion\")}}%, La Nacion with {{df_ex(\"La Nacion\", \"Opinion\")}}% and Todo Noticias with {{df_ex(\"Todo Noticias\", \"Opinion\")}}%.\n",
    "\n",
    "International news have a more prominent place in Infobae ({{df_ex(\"Infobae\", \"International\")}}%) and Clarin ({{df_ex(\"Clarin\", \"International\")}}%), but those percentages diminish with La Nacion ({{df_ex(\"La Nacion\", \"International\")}}%) and even more with Todo Noticias ({{df_ex(\"Todo Noticias\", \"International\")}}%)\n",
    "\n",
    "Economy and Politics have the particularity of being somewhat close to each other in terms of relative importance, which is demonstrated by these values: {{df_ex(\"La Nacion\", \"Economy\")}}% (La Nacion), {{df_ex(\"Infobae\", \"Economy\")}}% (Infobae), {{df_ex(\"Clarin\", \"Economy\")}}% (Clarin) and {{df_ex(\"Todo Noticias\", \"Economy\")}}% (Todo Noticias) for Economy, and {{df_ex(\"La Nacion\", \"Politics\")}}% (La Nacion), {{df_ex(\"Infobae\", \"Politics\")}}% (Infobae), {{df_ex(\"Clarin\", \"Politics\")}}% (Clarin) and {{df_ex(\"Todo Noticias\", \"Politics\")}}% (Todo Noticias) for Politics.\n",
    "\n",
    "It is also necessary to mention that Lifestyle is the second topic with more articles in La Nacion with a {{df_ex(\"La Nacion\", \"Lifestyle\")}}%, but its importance is not such in the other three (Clarin with {{df_ex(\"Clarin\", \"Lifestyle\")}}%, Todo Noticias with {{df_ex(\"Todo Noticias\", \"Lifestyle\")}}% and Infobae with {{df_ex(\"Infobae\", \"Lifestyle\")}}%). \n",
    "\n",
    "All 4 news sites reach more concensus with their less important topics. Cars (Todo Noticias: {{df_ex(\"Todo Noticias\", \"Cars\")}}%, Infobae: {{df_ex(\"Infobae\", \"Cars\")}}%, Clarin: {{df_ex(\"Clarin\", \"Cars\")}}%, La Nacion: {{df_ex(\"La Nacion\", \"Cars\")}}%), Technology (Todo Noticias: {{df_ex(\"Todo Noticias\", \"Technology\")}}%, Infobae: {{df_ex(\"Infobae\", \"Technology\")}}%, Clarin: {{df_ex(\"Clarin\", \"Technology\")}}%, La Nacion: {{df_ex(\"La Nacion\", \"Technology\")}}%), Crime (Todo Noticias: {{df_ex(\"Todo Noticias\", \"Crime\")}}%, Infobae: {{df_ex(\"Infobae\", \"Crime\")}}%, Clarin: {{df_ex(\"Clarin\", \"Crime\")}}%, La Nacion: {{df_ex(\"La Nacion\", \"Crime\")}}%). Environment is only present in Infobae with a very low percent {{df_ex(\"Infobae\", \"Environment\")}}%. A similiar path follows Science, only shared by La Nacion ({{df_ex(\"La Nacion\", \"Science\")}}%) and Infobae ({{df_ex(\"Infobae\", \"Science\")}}%). Tourism owns a fair share of articles in Clarin ({{df_ex(\"Clarin\", \"Tourism\")}}%), droping to a {{df_ex(\"La Nacion\", \"Tourism\")}}% in La Nacion, and being nonexistent in the other two. Culture, absent in Todo Noticias, shows in Clarin ({{df_ex(\"Clarin\", \"Culture\")}}%), Infobae ({{df_ex(\"Infobae\", \"Culture\")}}%) and La Nacion ({{df_ex(\"La Nacion\", \"Culture\")}}%).\n",
    "\n"
   ]
  },
  {
   "cell_type": "markdown",
   "metadata": {},
   "source": [
    "**<font color=\"#0F1518\">4.3 Covid-19</font>**"
   ]
  },
  {
   "cell_type": "code",
   "execution_count": null,
   "metadata": {
    "scrolled": true
   },
   "outputs": [],
   "source": [
    "###FIGURE-C\n",
    "fig = plt.figure(figsize=(15, 4))\n",
    "gs = GridSpec(1, 2)\n",
    "\n",
    "#QUERIES\n",
    "df_covid_total = df.loc[(df[\"article_name\"].str.contains(\"coronavirus|cuarentena|covid\"))|(df[\"covid_in_article\"]==True)]\n",
    "covid_bytopic = df_covid_total.groupby([\"media_name\", \"topic\"]).agg({\"article_name\":\"count\"}).rename(columns={\"article_name\":\"covid_totals\"})\n",
    "ttl_cvd_bm_bt = pd.merge(total_bymedia_bytopic.reset_index(), covid_bytopic, on=(\"media_name\", \"topic\"))\n",
    "ttl_cvd_bm = ttl_cvd_bm_bt.groupby(\"media_name\")[[\"topic_totals\", \"covid_totals\"]].sum()\n",
    "ttl_cvd_bm[\"%\"] = round((ttl_cvd_bm[\"covid_totals\"] / ttl_cvd_bm[\"topic_totals\"])*100, 2) \n",
    "cvd_perc_over_ttl = round((ttl_cvd_bm[\"covid_totals\"].sum() / ttl_cvd_bm[\"topic_totals\"].sum())*100, 2)\n",
    "\n",
    "df_covid_bydate = df_covid_total.groupby(\"extraction_date\").agg({\"article_name\":\"count\"})\n",
    "df_bydate = df.groupby(\"extraction_date\").agg({\"article_name\":\"count\"})\n",
    "\n",
    "####BAR STACKED PLOT####\n",
    "ax = fig.add_subplot(gs[0])\n",
    "corona = Plotter([ttl_cvd_bm[\"topic_totals\"], ttl_cvd_bm[\"covid_totals\"]], \"Covid-19 in articles\")\n",
    "corona.bar_plotter_stack([\"#A9CCE3\", \"#EC7063\"])\n",
    "\n",
    "####LINE PLOT####\n",
    "ax = fig.add_subplot(gs[1])\n",
    "covid_bydate = Plotter(df_bydate, \"Covid-19 in articles by day\")\n",
    "covid_bydate.line_plotter(\"#A9CCE3\")\n",
    "ax.plot(df_covid_bydate, color=\"#EC7063\", linewidth=3)\n",
    "ax.legend([\"All articles\", \"Covid-19\"], bbox_to_anchor=(0.5,1.09), loc=\"upper center\", ncol=4) \n",
    "ax.set_xticklabels(tick_spacer(3))\n",
    "\n",
    "plt.subplots_adjust(hspace=0.4)\n",
    "plt.show()"
   ]
  },
  {
   "cell_type": "markdown",
   "metadata": {
    "variables": {
     "cvd_perc_over_ttl": {},
     "ttl_cvd_bm.iloc[0][\"%\"]": {},
     "ttl_cvd_bm.iloc[1][\"%\"]": {},
     "ttl_cvd_bm.iloc[2][\"%\"]": {},
     "ttl_cvd_bm.iloc[3][\"%\"]": {},
     "ttl_cvd_bm[\"covid_totals\"].sum()": {},
     "ttl_cvd_bm[\"topic_totals\"].sum()": {}
    }
   },
   "source": [
    "In this section we try to determine the impact of Covid-19 in the news industry, exemplified with our 4 sites of study. The classification of the articles was independent from the topic itself, and it relied on the match of three words: \"Covid-19\", \"Coronavirus\" and \"quarantine\". This match could take place either in the article content or on its title  ([Appendix - B](#appendix_b)), but for practical purposes we will not consider both criterias as mutually exclusive.\n",
    "\n",
    "From a first look, we observe that {{ttl_cvd_bm[\"covid_totals\"].sum()}} from a total of {{ttl_cvd_bm[\"topic_totals\"].sum()}} articles contains at least one reference to the selected keywords. In other words, we can say that a {{cvd_perc_over_ttl}}% of all the articles sampled have this characteristic. We can also see that whenever the amount of articles published increases or decreases, the amount that mention Covid-19 does so in a similar pattern. \n",
    "\n",
    "In regards to each separate site, Clarin references Covid-19 in {{ttl_cvd_bm.iloc[0][\"%\"]}}% of its articles. This percentage in Infobae's, Todo Noticias's and La Nacion's sites is of {{ttl_cvd_bm.iloc[1][\"%\"]}}%, {{ttl_cvd_bm.iloc[3][\"%\"]}}% and {{ttl_cvd_bm.iloc[2][\"%\"]}}% respectively."
   ]
  },
  {
   "cell_type": "markdown",
   "metadata": {},
   "source": [
    "**<font color=\"#0F1518\">4.3.1 Covid-19 by topic</font>**"
   ]
  },
  {
   "cell_type": "code",
   "execution_count": null,
   "metadata": {},
   "outputs": [],
   "source": [
    "## FIGURE-D\n",
    "fig = plt.figure(figsize=(15, 25))\n",
    "gs = GridSpec(4, 1)  \n",
    "\n",
    "###QUERIES\n",
    "ttl_cvd_bt = ttl_cvd_bm_bt.groupby(\"topic\")[[\"topic_totals\", \"covid_totals\"]].sum()\n",
    "ttl_cvd_bt[\"%\"] = round((ttl_cvd_bt[\"covid_totals\"] / ttl_cvd_bt[\"topic_totals\"])*100, 2) \n",
    "ttl_cvd_bm_bt[\"%\"] = round((ttl_cvd_bm_bt[\"covid_totals\"] / ttl_cvd_bm_bt[\"topic_totals\"])*100, 2) \n",
    "def get_ttl_cvd_pct(media, topic):\n",
    "    values = ttl_cvd_bm_bt.groupby(\"media_name\").get_group(media).loc[ttl_cvd_bm_bt[\"topic\"]==topic]\n",
    "    return values[\"topic_totals\"].item(), values[\"covid_totals\"].item(), values[\"%\"].item()\n",
    "top10_cvd = ttl_cvd_bm_bt.loc[ttl_cvd_bm_bt[\"topic_totals\"]>100].sort_values(by=\"%\", ascending=False).iloc[0:10]\n",
    "top_s = \"\"\n",
    "top_lst = [f\"{t} ({m}): {p}%\" for m, t, p in top10_cvd[[\"media_name\", \"topic\", \"%\"]].values]\n",
    "for s in top_lst:\n",
    "    top_s += s + \". \"\n",
    "bottm_s = \"\"\n",
    "bottm10_cvd = ttl_cvd_bm_bt.loc[ttl_cvd_bm_bt[\"topic_totals\"]>100].sort_values(by=\"%\").iloc[0:10]\n",
    "bottm_lst = [f\"{t} ({m}): {p}%\" for m, t, p in bottm10_cvd[[\"media_name\", \"topic\", \"%\"]].values]\n",
    "for s in bottm_lst:\n",
    "    bottm_s += s + \". \"\n",
    "\n",
    "####BARH PLOT####\n",
    "idx  = 0\n",
    "for name in media_names:\n",
    "    ttl_cvd_xt = ttl_cvd_bm_bt.groupby(\"media_name\").get_group(name).drop(columns=[\"media_name\"]).set_index([\"topic\"]).sort_values(by=\"covid_totals\")\n",
    "    ax = fig.add_subplot(gs[idx])\n",
    "    p_topic = Plotter(ttl_cvd_xt[\"topic_totals\"], \"OVERRIDDEN\")\n",
    "    p_topic.barh_plotter(\"#ABB2B9\")\n",
    "    c_topic = Plotter(ttl_cvd_xt[\"covid_totals\"], f\"Covid-19 by topic - {name}\")\n",
    "    c_topic.barh_plotter(color_dict[name])\n",
    "    idx += 1      \n",
    "    for i in range(len(ttl_cvd_xt)):\n",
    "        x, y  = list(ttl_cvd_xt[\"topic_totals\"].index), ttl_cvd_xt[\"topic_totals\"].to_list()\n",
    "        x1, y1 = list(ttl_cvd_xt[\"covid_totals\"].index), ttl_cvd_xt[\"covid_totals\"].to_list()\n",
    "        ax.text(y[i]+2, x[i], f\"{round((y1[i]*100)/y[i], 2)}%\", verticalalignment=\"center\", color=\"#641E16\")\n",
    "\n",
    "plt.show()"
   ]
  },
  {
   "cell_type": "markdown",
   "metadata": {
    "variables": {
     "bottm_s": {},
     "cvd_perc_over_ttl": {},
     "round(ttl_cvd_bt[\"%\"][\"Society\"]-cvd_perc_over_ttl, 2)": {},
     "top_s": {},
     "ttl_cvd_bt[\"%\"][\"Culture\"]": {},
     "ttl_cvd_bt[\"%\"][\"Entertainment\"]": {},
     "ttl_cvd_bt[\"%\"][\"International\"]": {},
     "ttl_cvd_bt[\"%\"][\"Politics\"]": {},
     "ttl_cvd_bt[\"%\"][\"Science\"]": {},
     "ttl_cvd_bt[\"%\"][\"Society\"]": {},
     "ttl_cvd_bt[\"%\"][\"Sports\"]": {},
     "ttl_cvd_bt[\"%\"][\"Technology\"]": {},
     "ttl_cvd_bt[\"%\"][\"Tourism\"]": {}
    }
   },
   "source": [
    "In the graphs above when can appreciate the presence of Covid-19 across each website's topics. This presence appears to be proportional at some extent to the amount of articles per topic in most cases. However, there are some exceptions.\n",
    "\n",
    "We can detect topics where the amount of references to Covid-19 are above the established average considering the 4 sites of study. One example is Society, with a {{ttl_cvd_bt[\"%\"][\"Society\"]}}%. This a {{round(ttl_cvd_bt[\"%\"][\"Society\"]-cvd_perc_over_ttl, 2)}}% more than the percentage over the total articles ({{cvd_perc_over_ttl}}%). Tourism ({{ttl_cvd_bt[\"%\"][\"Tourism\"]}}%), Politics ({{ttl_cvd_bt[\"%\"][\"Politics\"]}}%) and International ({{ttl_cvd_bt[\"%\"][\"International\"]}}%) are good above average examples as well.\n",
    "\n",
    "In the opposite direction, there are some topics that have a lower quantity of articles with Covid-19 allusions. Examples of this are Entertainment ({{ttl_cvd_bt[\"%\"][\"Entertainment\"]}}%), Culture ({{ttl_cvd_bt[\"%\"][\"Culture\"]}}%), Sports ({{ttl_cvd_bt[\"%\"][\"Sports\"]}}%), Technology ({{ttl_cvd_bt[\"%\"][\"Technology\"]}}%) and Science ({{ttl_cvd_bt[\"%\"][\"Science\"]}}%).\n",
    "\n",
    "Overall, we could determine that, considering only the cases where the amount surpasses 100 articles, the top 10 topics and sites with the highest percentage of Covid-19 presence are: {{top_s}}\n",
    "\n",
    "Conversely, the 10 topics with lowest percentage are: {{bottm_s}}"
   ]
  },
  {
   "cell_type": "markdown",
   "metadata": {},
   "source": [
    "## <font color=\"#0F1518\">Conclusion</font>"
   ]
  },
  {
   "cell_type": "markdown",
   "metadata": {
    "variables": {
     "ttl_cvd_bt[\"%\"][\"Economy\"]": {},
     "ttl_cvd_bt[\"%\"][\"Entertainment\"]": {},
     "ttl_cvd_bt[\"%\"][\"Politics\"]": {}
    }
   },
   "source": [
    "As we stated in the introduction, one of the main objectives of this project was to determine what type of news do people in general consume. We believe that at least fairly decent approximation has been done, but it was not without challenges. Getting a stable amount of samples proved to be difficult in several occasions, and initially there were some worries because of it, especially with Todo Noticias. But we soon realized that the most drastic peaks and subsequent falls happened mostly with Entertainment news, and precisely on Saturdays. Infobae showed some inconsistencies as well, but in a shorter degree. Fortunately, the remaining two sites were more stable.\n",
    "\n",
    "The analyzed news websites evidenced tendencies in different degrees. There is little doubt that the main focus of Todo Noticias is Entertainment.  We could say the same about La Nacion, although this site shows a wider distribution in a very modest fashion. The 6 topics that follow Entertainment have a similar share of articles between each other. Arguably, the most diverse site is Infobae, which shows the widest distribution of articles over different topics. We see that International, Entertainment and Sport with similar percentages. Lastly, Clarin appears somehow different from the rest. In this case, the topic with greatest amount of articles is Society, with Entertainment being displaced to a 4th position. \n",
    "In regards to topic importance, we could mention eight: Society, International, Sports, Entertainment, Politics, Economy and Lifestyle. Of this, Entertainment is the one with the highest composition of articles, which might or might not be an indicator of argentine society in general terms. \n",
    "\n",
    "Since the conformation of Argentina as an independent nation, and with some exceptional periods of time, political, economic and social unrest have dominated the reality of the country. This situation only seems to be prolonged by the inability to break an established loop of inefficient governments and overall corruption. Perhaps it should not surprise then that more people are interested in entertainment than in politics or economy, two topics that occupy the middle part of the percentage rankings. Culture, Science and Technology appear to be even less important. Having stated this, we are still reticent to affirm a correlation between the situation of the country and the interests of people, but at least it might be beneficial just start considering it. After all, is a well-known fact that education is a key pillar in a nation prosperity, and even if they clearly show no interest in being so, news media plays an educational role.  \n",
    "\n",
    "Anyway, despite this discreet educational role, and as we affirmed in the beginning of this project, news media has a more material reason of being.  By no means this is any sort of criticism, but keeping this in mind might help explaining the preponderance of some topics over others. For example, it could at some extent justify Covid-19 as a theme present across all topics. We are more than aware that this a very delicate theme, as it has infiltrated and at some point shaped all aspects of society.  But we cannot help to notice a light contradiction: ({{ttl_cvd_bt[\"%\"][\"Politics\"]}})% of the Politics articles mentions Covid-19, and this makes sense at some point, but this value drops to ({{ttl_cvd_bt[\"%\"][\"Economy\"]}})% in Economy. And we can appreciate this tendency in all four websites. It is at least curious that in a country with deep economic issues, in a country that is already in technical default and that has an ongoing quarantine for over two months already, the mentions of Covid-19 in Economy share similar levels with other topics such as Entertainment ({{ttl_cvd_bt[\"%\"][\"Entertainment\"]}}%).  \n",
    "\n",
    "To finalize this paper, we must say that we could not achieve the desired precision in our analysis, as the topics in several cases were ambiguously assigned by those responsible for the sites. And altough we made sure to reassign them in the most sensible way, we still feel there is room for improvement. For future analysis we would like to implement machine learning algorithms for keyword extraction as, even though we might achieve the same results in general terms, they wlll probably help to get richer insights.  \n",
    "\n",
    "\n"
   ]
  },
  {
   "cell_type": "markdown",
   "metadata": {},
   "source": [
    "### <font color=\"#0F1518\">Appendix - A</font>"
   ]
  },
  {
   "cell_type": "code",
   "execution_count": null,
   "metadata": {},
   "outputs": [],
   "source": [
    "###APPENDIX FIGURE-A\n",
    "fig = plt.figure(figsize=(20, 40))\n",
    "gs = GridSpec(9, 1)\n",
    "\n",
    "###MAIN TOPICS\n",
    "max_per_day = df.groupby([\"media_name\", \"topic\", \"extraction_date\"]).agg({\"article_name\":\"count\"}).max().item()\n",
    "main_topics = []\n",
    "for name, groups in total_bymedia_bytopic.groupby(\"media_name\"):\n",
    "    for media, topic in groups.sort_values(by=\"topic_totals\", ascending=False).iloc[0:6][\"topic\"].items():\n",
    "        if topic not in main_topics:\n",
    "            main_topics.append(topic)\n",
    "\n",
    "####LINE PLOT TOPICS####\n",
    "idx = 0\n",
    "for topic in main_topics:\n",
    "    df_topic =  df.groupby(\"topic\").get_group(topic).groupby([\"extraction_date\", \"media_name\"]).agg({\"article_name\":\"count\"})\n",
    "    ax = fig.add_subplot(gs[idx])\n",
    "    articles_bydate1 = Plotter(df_topic.unstack(), f\"Articles by day - {topic}\")\n",
    "    articles_bydate1.line_plotter(default_colors)\n",
    "    ax.set_yticks(np.arange(0, max_per_day, 10))\n",
    "    idx += 1\n",
    "           \n",
    "plt.subplots_adjust(hspace=0.4)\n",
    "plt.show()"
   ]
  },
  {
   "cell_type": "markdown",
   "metadata": {},
   "source": [
    "### <a id=\"appendix_b\"><font color=\"#0F1518\">Appendix - B</font></a>"
   ]
  },
  {
   "cell_type": "code",
   "execution_count": null,
   "metadata": {},
   "outputs": [],
   "source": [
    "###APPENDIX FIGURE-B\n",
    "fig = plt.figure(figsize=(15, 10))\n",
    "gs = GridSpec(2, 2)\n",
    "\n",
    "###QUERIES\n",
    "covid_intitle = df.loc[(df[\"article_name\"].str.contains(\"coronavirus|cuarentena|covid\"))]\n",
    "covid_incontent = df.loc[df[\"covid_in_article\"]==True]\n",
    "\n",
    "####BAR STACKED PLOT####\n",
    "idx = [0, 2, 1, 3]\n",
    "titles = [\"title\", \"content\"]\n",
    "idx = 0\n",
    "\n",
    "for df_c in covid_intitle, covid_incontent:\n",
    "    covid_and_total_bymedia = df.groupby(\"media_name\")[\"article_name\"].count(), df_c.groupby(\"media_name\")[\"article_name\"].count()\n",
    "    ax = fig.add_subplot(gs[idx])\n",
    "    corona = Plotter(covid_and_total_bymedia, f\"Covid-19 in article {titles[idx]}\")\n",
    "    corona.bar_plotter_stack([\"#A9CCE3\", \"#EC7063\"])\n",
    "    idx += 1\n",
    "        \n",
    "####LINE PLOT COVID####\n",
    "df_covid =  df_covid_total.groupby([\"extraction_date\", \"media_name\"]).agg({\"article_name\":\"count\"})\n",
    "ax = fig.add_subplot(gs[1, :2])\n",
    "articles_bydate1 = Plotter(df_covid.unstack(), f\"Articles by day - Covid-19\")\n",
    "articles_bydate1.line_plotter(default_colors)\n",
    "\n",
    "plt.subplots_adjust(hspace=0.4)\n",
    "plt.show()"
   ]
  }
 ],
 "metadata": {
  "hide_input": false,
  "kernelspec": {
   "display_name": "Python 3",
   "language": "python",
   "name": "python3"
  },
  "language_info": {
   "codemirror_mode": {
    "name": "ipython",
    "version": 3
   },
   "file_extension": ".py",
   "mimetype": "text/x-python",
   "name": "python",
   "nbconvert_exporter": "python",
   "pygments_lexer": "ipython3",
   "version": "3.7.6"
  }
 },
 "nbformat": 4,
 "nbformat_minor": 4
}
